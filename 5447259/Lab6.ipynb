{
 "cells": [
  {
   "cell_type": "code",
   "execution_count": 10,
   "metadata": {},
   "outputs": [],
   "source": [
    "import matplotlib.pyplot as plt\n",
    "%matplotlib inline\n",
    "from collections import Counter\n",
    "import numpy as np\n",
    "import pandas as pd\n",
    "import csv"
   ]
  },
  {
   "cell_type": "markdown",
   "metadata": {},
   "source": [
    "### Navigating to the hg19 directory with:\n",
    "cd /data/references/hg19\n",
    "\n",
    "### ran bowtie command to align 2 mixed read files to human genome (input):\n",
    "bowtie2 -p 4 --sensitive --no-unal -x /data/references/hg19/hg19 -1 /data/Lab6_data/mixed_reads1.fastq -2 /data/Lab6_data/mixed_reads2.fastq -S /home/5447259/Lab_6/output_human_alignment.sam --un-conc /home/5447259/Lab_6/unaligned_human.fastq\n",
    "\n",
    "### (output):\n",
    "\n",
    "#### 1285441 reads; of these:\n",
    "##### 1285441 (100.00%) were paired; of these:\n",
    "##### 1285094 (99.97%) aligned concordantly 0 times\n",
    "##### 104 (0.01%) aligned concordantly exactly 1 time\n",
    "#### 243 (0.02%) aligned concordantly >1 times\n",
    "    ----\n",
    "    1285094 pairs aligned concordantly 0 times; of these:\n",
    "      228306 (17.77%) aligned discordantly 1 time\n",
    "    ----\n",
    "    1056788 pairs aligned 0 times concordantly or discordantly; of these:\n",
    "      2113576 mates make up the pairs; of these:\n",
    "        2057646 (97.35%) aligned 0 times\n",
    "        12120 (0.57%) aligned exactly 1 time\n",
    "        43810 (2.07%) aligned >1 times\n",
    "### 19.96% overall alignment rate to humans"
   ]
  },
  {
   "cell_type": "markdown",
   "metadata": {},
   "source": [
    "### ran bowtie command to resulting all confirmed non-human reads to Shewanella oneidensis genome \n",
    "#### (input):\n",
    "bowtie2 -p 4 --sensitive --no-unal -x /data/references/shewanella_oneidensis_mr-1/shewanella_oneidensis_mr-1 -1 /home/5447259/Lab_6/unaligned_human.1.fastq -2 /home/5447259/Lab_6/unaligned_human.2.fastq -S /home/5447259/Lab_6/output_s_oneidensis.sam --un-conc /home/5447259/Lab_6/unaligned_s_oneidensis.fastq\n",
    "\n",
    "#### (output):\n",
    "#### 1285094 reads; of these:\n",
    "  #### 1285094 (100.00%) were paired; of these:\n",
    "   #### 1049137 (81.64%) aligned concordantly 0 times\n",
    "    221306 (17.22%) aligned concordantly exactly 1 time\n",
    "    14651 (1.14%) aligned concordantly >1 times\n",
    "    ----\n",
    "    1049137 pairs aligned concordantly 0 times; of these:\n",
    "      290360 (27.68%) aligned discordantly 1 time\n",
    "    ----\n",
    "    758777 pairs aligned 0 times concordantly or discordantly; of these:\n",
    "      1517554 mates make up the pairs; of these:\n",
    "        1241202 (81.79%) aligned 0 times\n",
    "        219915 (14.49%) aligned exactly 1 time\n",
    "        56437 (3.72%) aligned >1 times\n",
    "### 51.71% overall alignment rate to s_oneidensis"
   ]
  },
  {
   "cell_type": "markdown",
   "metadata": {},
   "source": [
    "##### The reads did not cover the whole genome uniform. Some reads will be covered much less than average and some will have far more reads than the average. For the database, we use hg19 database and the input reads are FASTQ files. \n",
    "\n",
    "##### 1. When using the --un option, unaligned.fastq contains the unpaired reads that fail to align to the file at path. About 19% of sequencing library came from contaminating human DNA.\n",
    "\n",
    "##### 2. Using the --un option, unaligned.fastq contains all the non aligned S.oneidensis reads. Using --sensitive the percentage of the filtered library that didn't align to the reference genome will probably increase because the percentage should be more accurate and catch many more mistmatches. "
   ]
  },
  {
   "cell_type": "markdown",
   "metadata": {},
   "source": [
    "### SAM to BAM "
   ]
  },
  {
   "cell_type": "markdown",
   "metadata": {},
   "source": [
    "samtools view -b /home/5447259/Lab_6/output_s_oneidensis.sam >/home/5447259/Lab_6/output_s_oneidensis.bam"
   ]
  },
  {
   "cell_type": "markdown",
   "metadata": {},
   "source": [
    "### Sort BAM"
   ]
  },
  {
   "cell_type": "markdown",
   "metadata": {},
   "source": [
    "samtools sort /home/5447259/Lab_6/output_s_oneidensis.bam > /home/5447259/Lab_6/output_s_oneidensis.sorted.bam"
   ]
  },
  {
   "cell_type": "markdown",
   "metadata": {},
   "source": [
    "### Use Depth Operation to generate # of times reads aligned to coordinate of a genome"
   ]
  },
  {
   "cell_type": "markdown",
   "metadata": {},
   "source": [
    "samtools depth -a /home/5447259/Lab_6/output_s_oneidensis.sorted.bam > /home/5447259/Lab_6/s_oneidensis.coverage"
   ]
  },
  {
   "cell_type": "code",
   "execution_count": 23,
   "metadata": {},
   "outputs": [
    {
     "name": "stdout",
     "output_type": "stream",
     "text": [
      "11.43810509519385\n"
     ]
    }
   ],
   "source": [
    "# https://www.genome.jp/kegg-bin/show_organism?org=son to find number of nucleotides in s.oneidensis genome\n",
    "base = list(range(5131424))\n",
    "# fill entire list with 0s to begin with\n",
    "depth = [0] * 5131424\n",
    "# parse coverage file with the separation being tabs\n",
    "i = 0\n",
    "with open('s_oneidensis.coverage') as file:\n",
    "    read = csv.reader(file, delimiter= '\\t')  \n",
    "    for line in read:\n",
    "        depth[i] = int(line[2])\n",
    "        i = i + 1\n",
    "sum_depth = sum(depth)\n",
    "avg_depth = sum_depth / 5131424\n",
    "print(avg_depth)"
   ]
  },
  {
   "cell_type": "code",
   "execution_count": 21,
   "metadata": {},
   "outputs": [
    {
     "name": "stdout",
     "output_type": "stream",
     "text": [
      "0.0\n",
      "126.9\n"
     ]
    }
   ],
   "source": [
    "#finding average of each 10 base pair window\n",
    "num_pieces = 1 + (5131424 // 10)\n",
    "j = 0\n",
    "mean_depth = [0] * num_pieces\n",
    "for k in range(0, 5131424, 10):\n",
    "    mean_depth[j] = np.mean(depth[j:j+10])\n",
    "    j = j + 1\n",
    "print(min(mean_depth))\n",
    "print(max(mean_depth))\n"
   ]
  },
  {
   "cell_type": "markdown",
   "metadata": {},
   "source": [
    "### Plotting Depth Frequencies"
   ]
  },
  {
   "cell_type": "code",
   "execution_count": 19,
   "metadata": {},
   "outputs": [
    {
     "data": {
      "text/plain": [
       "[<matplotlib.lines.Line2D at 0x7f4175664780>]"
      ]
     },
     "execution_count": 19,
     "metadata": {},
     "output_type": "execute_result"
    },
    {
     "data": {
      "image/png": "[encoded data removed]",
      "text/plain": [
       "<Figure size 432x288 with 1 Axes>"
      ]
     },
     "metadata": {
      "needs_background": "light"
     },
     "output_type": "display_data"
    }
   ],
   "source": [
    "plt.xlabel(\"Position in Genome\")\n",
    "plt.ylabel(\"Depth of Coverage\")\n",
    "plt.plot(list(range(0, 5131424, 10)), mean_depth)"
   ]
  },
  {
   "cell_type": "code",
   "execution_count": 18,
   "metadata": {},
   "outputs": [
    {
     "data": {
      "text/plain": [
       "(array([4.06481e+06, 8.33274e+05, 1.92338e+05, 2.69630e+04, 8.92800e+03,\n",
       "        3.92300e+03, 7.46000e+02, 4.10000e+01, 1.18000e+02, 2.83000e+02]),\n",
       " array([  0. ,  29.7,  59.4,  89.1, 118.8, 148.5, 178.2, 207.9, 237.6,\n",
       "        267.3, 297. ]),\n",
       " <a list of 10 Patch objects>)"
      ]
     },
     "execution_count": 18,
     "metadata": {},
     "output_type": "execute_result"
    },
    {
     "data": {
      "image/png": "[encoded data removed]",
      "text/plain": [
       "<Figure size 432x288 with 1 Axes>"
      ]
     },
     "metadata": {
      "needs_background": "light"
     },
     "output_type": "display_data"
    }
   ],
   "source": [
    "plt.xlabel(\"Depth of Coverage\")\n",
    "plt.ylabel(\"Count\")\n",
    "plt.hist(depth)"
   ]
  },
  {
   "cell_type": "markdown",
   "metadata": {},
   "source": [
    "Min coverage is 0, Max coverage is 127, Mean coverage is 11 across all positions"
   ]
  },
  {
   "cell_type": "code",
   "execution_count": null,
   "metadata": {},
   "outputs": [],
   "source": []
  }
 ],
 "metadata": {
  "kernelspec": {
   "display_name": "Python 3",
   "language": "python",
   "name": "python3"
  },
  "language_info": {
   "codemirror_mode": {
    "name": "ipython",
    "version": 3
   },
   "file_extension": ".py",
   "mimetype": "text/x-python",
   "name": "python",
   "nbconvert_exporter": "python",
   "pygments_lexer": "ipython3",
   "version": "3.7.3"
  }
 },
 "nbformat": 4,
 "nbformat_minor": 2
}
