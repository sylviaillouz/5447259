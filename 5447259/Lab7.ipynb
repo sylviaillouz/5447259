{
 "cells": [
  {
   "cell_type": "code",
   "execution_count": 109,
   "metadata": {},
   "outputs": [],
   "source": [
    "import numpy as np\n",
    "from Bio import SeqIO\n",
    "from Bio import Entrez\n",
    "import string\n",
    "import time\n",
    "import matplotlib as plt\n",
    "import pandas as pd"
   ]
  },
  {
   "cell_type": "code",
   "execution_count": 86,
   "metadata": {},
   "outputs": [
    {
     "data": {
      "text/plain": [
       "100000000"
      ]
     },
     "execution_count": 86,
     "metadata": {},
     "output_type": "execute_result"
    }
   ],
   "source": [
    "# generating files of various 0-content\n",
    "#zeros_100 = np.random.choice([0, 1], size=800000000, replace=True, p=[1.0, 0.0]) \n",
    "zeros_90 = np.random.choice([0, 1], size=800000000, replace=True, p=[0.9, 0.1])\n",
    "#zeros_80 = np.random.choice([0, 1], size=800000000, replace=True, p=[0.8, 0.2])\n",
    "#zeros_70 = np.random.choice([0, 1], size=800000000, replace=True, p=[0.7, 0.3])\n",
    "#zeros_60 = np.random.choice([0, 1], size=800000000, replace=True, p=[0.6, 0.4])\n",
    "#zeros_50 = np.random.choice([0, 1], size=800000000, replace=True, p=[0.5, 0.5])\n",
    "\n",
    "#zeros_100 = np.packbits(zeros_100)\n",
    "zeros_90 = np.packbits(zeros_90)\n",
    "#zeros_80 = np.packbits(zeros_80)\n",
    "#zeros_70 = np.packbits(zeros_70)\n",
    "#zeros_60 = np.packbits(zeros_60)\n",
    "#zeros_50 = np.packbits(zeros_50)\n",
    "\n",
    "#open('zeros_100', 'wb').write(zeros_100)\n",
    "open('zeros_90', 'wb').write(zeros_90)\n",
    "#open('zeros_80', 'wb').write(zeros_80)\n",
    "#open('zeros_70', 'wb').write(zeros_70)\n",
    "#open('zeros_60', 'wb').write(zeros_60)\n",
    "#open('zeros_50', 'wb').write(zeros_50)"
   ]
  },
  {
   "cell_type": "code",
   "execution_count": 60,
   "metadata": {},
   "outputs": [
    {
     "data": {
      "text/plain": [
       "100000000"
      ]
     },
     "execution_count": 60,
     "metadata": {},
     "output_type": "execute_result"
    }
   ],
   "source": [
    "# generating random dna sequence and protein files\n",
    "random_dna_seq_nums = np.random.choice([1, 2, 3, 4], size=100000000, replace=True, p=[.25, .25, .25, .25])\n",
    "random_dna_seq_array = []\n",
    "for elem in random_dna_seq_nums:\n",
    "    if elem == 1:\n",
    "        random_dna_seq_array.append('A')\n",
    "    if elem == 2:\n",
    "        random_dna_seq_array.append('G')\n",
    "    if elem == 3:\n",
    "        random_dna_seq_array.append('T')\n",
    "    if elem == 4:\n",
    "        random_dna_seq_array.append('C')\n",
    "random_dna_seq = ''.join(random_dna_seq_array)\n",
    "\n",
    "aa_dict = {1:'A', 2:'R', 3:'N', 4:'D', 5:'C', 6:'Q', 7:'E', 8:'G', 9:'H', 10:'I', 11:'M', 12:'L', 13:'K', 14:'P', 15:'F', 16:'S', 17:'T', 18:'W', 19:'Y', 20:'V'}\n",
    "random_prot_seq_nums = np.random.choice(range(1,21), size=100000000, replace=True)\n",
    "random_prot_seq_array = []\n",
    "for elem in random_prot_seq_nums:\n",
    "    random_prot_seq_array.append(aa_dict[elem])\n",
    "random_prot_seq = ''.join(random_prot_seq_array)\n",
    "\n",
    "open('dna_seq.fa', 'w').write(''.join(random_dna_seq_array))\n",
    "open('prot_seq.fa', 'w').write(''.join(random_prot_seq_array))\n",
    "\n"
   ]
  },
  {
   "cell_type": "markdown",
   "metadata": {},
   "source": [
    "## Time Trial Data: GZIP"
   ]
  },
  {
   "cell_type": "markdown",
   "metadata": {},
   "source": [
    "### Terminal Commands\n",
    "##### > time gzip -c zeros_100 > zeros_100_gzip.gz\n",
    "##### > time gzip -c zeros_90 > zeros_90_gzip.gz\n",
    "##### > time gzip -c zeros_80 > zeros_80_gzip.gz\n",
    "##### > time gzip -c zeros_70 > zeros_70_gzip.gz\n",
    "##### > time gzip -c zeros_60 > zeros_60_gzip.gz\n",
    "##### > time gzip -c zeros_50 > zeros_50_gzip.gz"
   ]
  },
  {
   "cell_type": "code",
   "execution_count": 105,
   "metadata": {},
   "outputs": [
    {
     "data": {
      "text/html": [
       "<div>\n",
       "<style scoped>\n",
       "    .dataframe tbody tr th:only-of-type {\n",
       "        vertical-align: middle;\n",
       "    }\n",
       "\n",
       "    .dataframe tbody tr th {\n",
       "        vertical-align: top;\n",
       "    }\n",
       "\n",
       "    .dataframe thead th {\n",
       "        text-align: right;\n",
       "    }\n",
       "</style>\n",
       "<table border=\"1\" class=\"dataframe\">\n",
       "  <thead>\n",
       "    <tr style=\"text-align: right;\">\n",
       "      <th></th>\n",
       "      <th>info</th>\n",
       "      <th>zeros_100_gzip</th>\n",
       "      <th>zeros_90_gzip</th>\n",
       "      <th>zeros_80_gzip</th>\n",
       "      <th>zeros_70_gzip</th>\n",
       "      <th>zeros_60_gzip</th>\n",
       "      <th>zeros_50_gzip</th>\n",
       "      <th>DNA Sequence</th>\n",
       "      <th>Protein Sequence</th>\n",
       "    </tr>\n",
       "  </thead>\n",
       "  <tbody>\n",
       "    <tr>\n",
       "      <th>0</th>\n",
       "      <td>real time (s)</td>\n",
       "      <td>7.948000</td>\n",
       "      <td>30.788</td>\n",
       "      <td>16.872</td>\n",
       "      <td>6.788</td>\n",
       "      <td>4.217</td>\n",
       "      <td>3.588</td>\n",
       "      <td>23.071</td>\n",
       "      <td>4.247</td>\n",
       "    </tr>\n",
       "    <tr>\n",
       "      <th>1</th>\n",
       "      <td>user time (s)</td>\n",
       "      <td>0.554000</td>\n",
       "      <td>25.673</td>\n",
       "      <td>16.500</td>\n",
       "      <td>6.744</td>\n",
       "      <td>4.149</td>\n",
       "      <td>3.358</td>\n",
       "      <td>22.953</td>\n",
       "      <td>4.190</td>\n",
       "    </tr>\n",
       "    <tr>\n",
       "      <th>2</th>\n",
       "      <td>sys time (s)</td>\n",
       "      <td>0.036000</td>\n",
       "      <td>0.076</td>\n",
       "      <td>0.112</td>\n",
       "      <td>0.044</td>\n",
       "      <td>0.068</td>\n",
       "      <td>0.056</td>\n",
       "      <td>0.056</td>\n",
       "      <td>0.056</td>\n",
       "    </tr>\n",
       "    <tr>\n",
       "      <th>3</th>\n",
       "      <td>input size (MB)</td>\n",
       "      <td>100.000000</td>\n",
       "      <td>100.000</td>\n",
       "      <td>100.000</td>\n",
       "      <td>100.000</td>\n",
       "      <td>100.000</td>\n",
       "      <td>100.000</td>\n",
       "      <td>100.000</td>\n",
       "      <td>100.000</td>\n",
       "    </tr>\n",
       "    <tr>\n",
       "      <th>4</th>\n",
       "      <td>output size (MB)</td>\n",
       "      <td>0.097081</td>\n",
       "      <td>56.012</td>\n",
       "      <td>77.402</td>\n",
       "      <td>89.280</td>\n",
       "      <td>97.674</td>\n",
       "      <td>100.015</td>\n",
       "      <td>29.222</td>\n",
       "      <td>60.559</td>\n",
       "    </tr>\n",
       "  </tbody>\n",
       "</table>\n",
       "</div>"
      ],
      "text/plain": [
       "               info  zeros_100_gzip  zeros_90_gzip  zeros_80_gzip  \\\n",
       "0     real time (s)        7.948000         30.788         16.872   \n",
       "1     user time (s)        0.554000         25.673         16.500   \n",
       "2      sys time (s)        0.036000          0.076          0.112   \n",
       "3   input size (MB)      100.000000        100.000        100.000   \n",
       "4  output size (MB)        0.097081         56.012         77.402   \n",
       "\n",
       "   zeros_70_gzip  zeros_60_gzip  zeros_50_gzip  DNA Sequence  Protein Sequence  \n",
       "0          6.788          4.217          3.588        23.071             4.247  \n",
       "1          6.744          4.149          3.358        22.953             4.190  \n",
       "2          0.044          0.068          0.056         0.056             0.056  \n",
       "3        100.000        100.000        100.000       100.000           100.000  \n",
       "4         89.280         97.674        100.015        29.222            60.559  "
      ]
     },
     "execution_count": 105,
     "metadata": {},
     "output_type": "execute_result"
    }
   ],
   "source": [
    "data = {}\n",
    "data['info'] = ['real time (s)', 'user time (s)', 'sys time (s)', 'input size (MB)', 'output size (MB)']\n",
    "data['zeros_100_gzip'] = [7.948, 0.554, 0.036, 100, .097081]\n",
    "data['zeros_90_gzip'] = [30.788, 25.673, 0.076, 100, 56.012]\n",
    "data['zeros_80_gzip'] = [16.872, 16.500, 0.112, 100, 77.402]\n",
    "data['zeros_70_gzip'] = [6.788, 6.744, 0.044, 100, 89.280]\n",
    "data['zeros_60_gzip'] = [4.217, 4.149, 0.068, 100, 97.674]\n",
    "data['zeros_50_gzip'] = [3.588, 3.358, 0.056, 100, 100.015]\n",
    "data['DNA Sequence'] = [23.071, 22.953, 0.056, 100, 29.222]\n",
    "data['Protein Sequence'] = [4.247, 4.190, 0.056, 100, 60.559]\n",
    "\n",
    "df = pd.DataFrame(data)\n",
    "df"
   ]
  },
  {
   "cell_type": "markdown",
   "metadata": {},
   "source": [
    "## Time Trial Data: BZIP2"
   ]
  },
  {
   "cell_type": "markdown",
   "metadata": {},
   "source": [
    "### Terminal Commands\n",
    "##### > time bzip -c zeros_100 > zeros_100_bzip.bz2 \n",
    "##### (and for all the other files replace 100 with respective 0-content percentage)"
   ]
  },
  {
   "cell_type": "code",
   "execution_count": 168,
   "metadata": {},
   "outputs": [
    {
     "data": {
      "text/html": [
       "<div>\n",
       "<style scoped>\n",
       "    .dataframe tbody tr th:only-of-type {\n",
       "        vertical-align: middle;\n",
       "    }\n",
       "\n",
       "    .dataframe tbody tr th {\n",
       "        vertical-align: top;\n",
       "    }\n",
       "\n",
       "    .dataframe thead th {\n",
       "        text-align: right;\n",
       "    }\n",
       "</style>\n",
       "<table border=\"1\" class=\"dataframe\">\n",
       "  <thead>\n",
       "    <tr style=\"text-align: right;\">\n",
       "      <th></th>\n",
       "      <th>info</th>\n",
       "      <th>zeros_100_bzip</th>\n",
       "      <th>zeros_90_bzip</th>\n",
       "      <th>zeros_80_bzip</th>\n",
       "      <th>zeros_70_bzip</th>\n",
       "      <th>zeros_60_bzip</th>\n",
       "      <th>zeros_50_bzip</th>\n",
       "      <th>DNA Sequence</th>\n",
       "      <th>Protein Sequence</th>\n",
       "    </tr>\n",
       "  </thead>\n",
       "  <tbody>\n",
       "    <tr>\n",
       "      <th>0</th>\n",
       "      <td>real time (s)</td>\n",
       "      <td>0.861000</td>\n",
       "      <td>9.488</td>\n",
       "      <td>9.955</td>\n",
       "      <td>10.746</td>\n",
       "      <td>11.912</td>\n",
       "      <td>12.687</td>\n",
       "      <td>9.306</td>\n",
       "      <td>9.372</td>\n",
       "    </tr>\n",
       "    <tr>\n",
       "      <th>1</th>\n",
       "      <td>user time (s)</td>\n",
       "      <td>0.823000</td>\n",
       "      <td>9.407</td>\n",
       "      <td>9.846</td>\n",
       "      <td>10.666</td>\n",
       "      <td>11.842</td>\n",
       "      <td>12.602</td>\n",
       "      <td>9.254</td>\n",
       "      <td>9.300</td>\n",
       "    </tr>\n",
       "    <tr>\n",
       "      <th>2</th>\n",
       "      <td>sys time (s)</td>\n",
       "      <td>0.036000</td>\n",
       "      <td>0.080</td>\n",
       "      <td>0.108</td>\n",
       "      <td>0.080</td>\n",
       "      <td>0.068</td>\n",
       "      <td>0.084</td>\n",
       "      <td>0.052</td>\n",
       "      <td>0.072</td>\n",
       "    </tr>\n",
       "    <tr>\n",
       "      <th>3</th>\n",
       "      <td>input size (MB)</td>\n",
       "      <td>100.000000</td>\n",
       "      <td>100.000</td>\n",
       "      <td>100.000</td>\n",
       "      <td>100.000</td>\n",
       "      <td>100.000</td>\n",
       "      <td>100.000</td>\n",
       "      <td>100.000</td>\n",
       "      <td>100.000</td>\n",
       "    </tr>\n",
       "    <tr>\n",
       "      <th>4</th>\n",
       "      <td>output size (MB)</td>\n",
       "      <td>0.000113</td>\n",
       "      <td>58.321</td>\n",
       "      <td>82.634</td>\n",
       "      <td>95.138</td>\n",
       "      <td>100.050</td>\n",
       "      <td>100.442</td>\n",
       "      <td>27.335</td>\n",
       "      <td>55.260</td>\n",
       "    </tr>\n",
       "  </tbody>\n",
       "</table>\n",
       "</div>"
      ],
      "text/plain": [
       "               info  zeros_100_bzip  zeros_90_bzip  zeros_80_bzip  \\\n",
       "0     real time (s)        0.861000          9.488          9.955   \n",
       "1     user time (s)        0.823000          9.407          9.846   \n",
       "2      sys time (s)        0.036000          0.080          0.108   \n",
       "3   input size (MB)      100.000000        100.000        100.000   \n",
       "4  output size (MB)        0.000113         58.321         82.634   \n",
       "\n",
       "   zeros_70_bzip  zeros_60_bzip  zeros_50_bzip  DNA Sequence  Protein Sequence  \n",
       "0         10.746         11.912         12.687         9.306             9.372  \n",
       "1         10.666         11.842         12.602         9.254             9.300  \n",
       "2          0.080          0.068          0.084         0.052             0.072  \n",
       "3        100.000        100.000        100.000       100.000           100.000  \n",
       "4         95.138        100.050        100.442        27.335            55.260  "
      ]
     },
     "execution_count": 168,
     "metadata": {},
     "output_type": "execute_result"
    }
   ],
   "source": [
    "data2 = {}\n",
    "data2['info'] = ['real time (s)', 'user time (s)', 'sys time (s)', 'input size (MB)', 'output size (MB)']\n",
    "data2['zeros_100_bzip'] = [0.861, 0.823, 0.036, 100, .000113]\n",
    "data2['zeros_90_bzip'] = [9.488, 9.407, 0.080, 100, 58.321]\n",
    "data2['zeros_80_bzip'] = [9.955, 9.846, 0.108, 100, 82.634]\n",
    "data2['zeros_70_bzip'] = [10.746, 10.666, 0.080, 100, 95.138]\n",
    "data2['zeros_60_bzip'] = [11.912, 11.842, 0.068, 100, 100.050]\n",
    "data2['zeros_50_bzip'] = [12.687, 12.602, 0.084, 100, 100.442]\n",
    "data2['DNA Sequence'] = [9.306, 9.254, 0.052, 100, 27.335]\n",
    "data2['Protein Sequence'] = [9.372, 9.300, 0.072, 100, 55.260]\n",
    "df = pd.DataFrame(data2)\n",
    "df"
   ]
  },
  {
   "cell_type": "markdown",
   "metadata": {},
   "source": [
    "## Time Trial Data: PBZIP2"
   ]
  },
  {
   "cell_type": "markdown",
   "metadata": {},
   "source": [
    "### Terminal Commands\n",
    "##### > time pbzip2 -c zeros_50 > zeros_50_pbzip.bz2 \n",
    "##### (run 5 times for each zero percentage)\n",
    "##### > ls -l -t *.bz2 to get more precise file size data"
   ]
  },
  {
   "cell_type": "code",
   "execution_count": 169,
   "metadata": {
    "scrolled": false
   },
   "outputs": [
    {
     "data": {
      "text/html": [
       "<div>\n",
       "<style scoped>\n",
       "    .dataframe tbody tr th:only-of-type {\n",
       "        vertical-align: middle;\n",
       "    }\n",
       "\n",
       "    .dataframe tbody tr th {\n",
       "        vertical-align: top;\n",
       "    }\n",
       "\n",
       "    .dataframe thead th {\n",
       "        text-align: right;\n",
       "    }\n",
       "</style>\n",
       "<table border=\"1\" class=\"dataframe\">\n",
       "  <thead>\n",
       "    <tr style=\"text-align: right;\">\n",
       "      <th></th>\n",
       "      <th>info</th>\n",
       "      <th>zeros_100_pbzip</th>\n",
       "      <th>zeros_90_pbzip</th>\n",
       "      <th>zeros_80_pbzip</th>\n",
       "      <th>zeros_70_pbzip</th>\n",
       "      <th>zeros_60_pbzip</th>\n",
       "      <th>zeros_50_pbzip</th>\n",
       "      <th>DNA_Sequence</th>\n",
       "      <th>Protein Sequence</th>\n",
       "    </tr>\n",
       "  </thead>\n",
       "  <tbody>\n",
       "    <tr>\n",
       "      <th>0</th>\n",
       "      <td>real time (s)</td>\n",
       "      <td>0.142000</td>\n",
       "      <td>1.017</td>\n",
       "      <td>1.182</td>\n",
       "      <td>1.413</td>\n",
       "      <td>1.680</td>\n",
       "      <td>1.821</td>\n",
       "      <td>1.052</td>\n",
       "      <td>1.119</td>\n",
       "    </tr>\n",
       "    <tr>\n",
       "      <th>1</th>\n",
       "      <td>user time (s)</td>\n",
       "      <td>1.776000</td>\n",
       "      <td>14.953</td>\n",
       "      <td>17.439</td>\n",
       "      <td>21.123</td>\n",
       "      <td>25.348</td>\n",
       "      <td>27.539</td>\n",
       "      <td>14.148</td>\n",
       "      <td>14.573</td>\n",
       "    </tr>\n",
       "    <tr>\n",
       "      <th>2</th>\n",
       "      <td>sys time (s)</td>\n",
       "      <td>0.042000</td>\n",
       "      <td>0.542</td>\n",
       "      <td>0.631</td>\n",
       "      <td>0.633</td>\n",
       "      <td>0.598</td>\n",
       "      <td>0.643</td>\n",
       "      <td>0.536</td>\n",
       "      <td>0.607</td>\n",
       "    </tr>\n",
       "    <tr>\n",
       "      <th>3</th>\n",
       "      <td>input size (MB)</td>\n",
       "      <td>100.000000</td>\n",
       "      <td>100.000</td>\n",
       "      <td>100.000</td>\n",
       "      <td>100.000</td>\n",
       "      <td>100.000</td>\n",
       "      <td>100.000</td>\n",
       "      <td>100.000</td>\n",
       "      <td>100.000</td>\n",
       "    </tr>\n",
       "    <tr>\n",
       "      <th>4</th>\n",
       "      <td>output size (MB)</td>\n",
       "      <td>0.005375</td>\n",
       "      <td>58.343</td>\n",
       "      <td>82.649</td>\n",
       "      <td>95.143</td>\n",
       "      <td>100.057</td>\n",
       "      <td>100.451</td>\n",
       "      <td>27.342</td>\n",
       "      <td>55.259</td>\n",
       "    </tr>\n",
       "  </tbody>\n",
       "</table>\n",
       "</div>"
      ],
      "text/plain": [
       "               info  zeros_100_pbzip  zeros_90_pbzip  zeros_80_pbzip  \\\n",
       "0     real time (s)         0.142000           1.017           1.182   \n",
       "1     user time (s)         1.776000          14.953          17.439   \n",
       "2      sys time (s)         0.042000           0.542           0.631   \n",
       "3   input size (MB)       100.000000         100.000         100.000   \n",
       "4  output size (MB)         0.005375          58.343          82.649   \n",
       "\n",
       "   zeros_70_pbzip  zeros_60_pbzip  zeros_50_pbzip  DNA_Sequence  \\\n",
       "0           1.413           1.680           1.821         1.052   \n",
       "1          21.123          25.348          27.539        14.148   \n",
       "2           0.633           0.598           0.643         0.536   \n",
       "3         100.000         100.000         100.000       100.000   \n",
       "4          95.143         100.057         100.451        27.342   \n",
       "\n",
       "   Protein Sequence  \n",
       "0             1.119  \n",
       "1            14.573  \n",
       "2             0.607  \n",
       "3           100.000  \n",
       "4            55.259  "
      ]
     },
     "execution_count": 169,
     "metadata": {},
     "output_type": "execute_result"
    }
   ],
   "source": [
    "data3 = {}\n",
    "data3['info'] = ['real time (s)', 'user time (s)', 'sys time (s)', 'input size (MB)', 'output size (MB)']\n",
    "data3['zeros_100_pbzip'] = [0.142, 1.776, 0.042, 100, .005375]\n",
    "data3['zeros_90_pbzip'] = [1.017, 14.953, 0.542, 100, 58.343]\n",
    "data3['zeros_80_pbzip'] = [1.182, 17.439, 0.631, 100, 82.649]\n",
    "data3['zeros_70_pbzip'] = [1.413, 21.123, .633, 100, 95.143]\n",
    "data3['zeros_60_pbzip'] = [1.680, 25.348, 0.598, 100, 100.057]\n",
    "data3['zeros_50_pbzip'] = [1.821, 27.539, .643, 100, 100.451]\n",
    "data3['DNA_Sequence'] = [1.052, 14.148, 0.536, 100, 27.342]\n",
    "data3['Protein Sequence'] = [1.119, 14.573, .607, 100, 55.259]\n",
    "\n",
    "df = pd.DataFrame(data3)\n",
    "df"
   ]
  },
  {
   "cell_type": "markdown",
   "metadata": {},
   "source": [
    "Gzip is the best compression algorithm for all files of zeros and ones. Pbzip is the best compression algorithm (by a very small margin) for the protein sequence, and bzip is the best compression algorithm for the random DNA sequence (by a very small margin). Pbzip2 is the fastest algorithm. It is an optimized algorithm that differs from bzip2 by its ability to do multi-threading and therefore gave almost linear speed improvements. Therefore, we expect pbzip2 to be fastest across the board (http://www.softpanorama.org/Tools/Archivers/bzip2_and_pbzip2.shtml). \n",
    "\n",
    "The level of compression decreases as the percentage of zeros decreases. This is because with block codes, or run-length encoding, the compression is optimized with longs runs of zeros (which will be more frequent in the files with higher zero content). In the 50% zero file, the average run may be less than 2.\n",
    "\n",
    "The minimum number of bits to encode a single dna base is 2. The minimum number of bits to store an amino acid is 4.3 because there are 20 amino acids, and log(20) = 4.3. The gzip file on random dna took (29.22MB * 100,000 * 8bits) / 100,000,000 nucleotides =  2.34 bits per dna base. The bzip2 file on random dna took (27.342 * 100,000 * 8bits) / 100,000,000 nucleotides = 2.19 bits per dna base. The gzip file on random aa sequence took (55.26MB * 100,000 * 8bits) / 100,000,000 amino acids = 4.42 bits per amino acid. The pbzip on random aa sequence took also 4.42 bits per aa with the same calculation. \n",
    "\n",
    "Gzip and bzip are not performing optimally on dna and proteins. When dna sequences are 100 million base pairs long, compression ineffiency of even .3 bits can make a huge difference. "
   ]
  },
  {
   "cell_type": "markdown",
   "metadata": {},
   "source": [
    "## Real Data"
   ]
  },
  {
   "cell_type": "code",
   "execution_count": 160,
   "metadata": {
    "scrolled": true
   },
   "outputs": [
    {
     "name": "stdout",
     "output_type": "stream",
     "text": [
      "> AF236860.1 | HIV-1 strain TH90129_1 from Thailand gp120 (gp120) gene, partial cds\n",
      "GTTCCTGTGTGGAAAGATGCAGAGACCACCTTATTTTGTGCATCAGATGCCAAAGCACATGAGACAGAAGTGCACAATGTCTGGGCCACACATGCCTGTGTACCCACAGACCCCAACCCACAAGAAATACAACTGAAAAATGTAACAGAGAATTTTAACATGTGGAAAAATAACATGGTAGAGCAGATGCAGGAGGATGTAATCAGTTTATGGGATCAAAGTCTAAAGCCATGTGTAAAGTTAACTCCTCTCTGCGTTACTTTAAATTGTACCGATGCTACTTTGACCAATAGCACTTACATAACCAATGTCTCTAAGATAATAGGAGATATAACAGAGGAAGTAAGAAACTGTTCTTTTAATATGACCACAGAACTAAGAGATAAGAAGCAGAAGGTCCATGCACTTTTTTTATAAGCTTGATATAGTAGAAATTGAAAAGAATAGGAATGAGTATAGGTTAATAAATTGTAATACTTCGGTCATTAAGCAGGCTTGTCCAAAGATATCCTTTGATCCAATTCCTATACATTATTGTACTCCAGCTGGTTATGCGATTTTAAAGTGTAATGATAAGAATTTCAATGGGACAGGGCCATGTAAAAATGTCAGCTCAGTACAATGCACACATGGAATTAAGCCAGTGGTATCAACTCAATTGCTGTTAAATGGCAGTCTAGCAGAAGAAGAGATAATAATCAGATCTGAAAATCTCACAAACAATGCCAAAACCATAATAGTGCACCTTAATAAATCTGTAGAAATCAATTGTACCAGACCCTTCAACAATACAAGAACAAGTATAACTATAGGACCAGGACAAATGTTCTATAGAACAGGAGAGATAATAGGAGATATAACAAAAGCATATTGTGAGATTAATGGAACAAAATGGAATGAAACTTTAAAACAGGTAGCTGAAAAACTAAAAGAGCACTTTAATAATAAGACAATAGTCTTTCAACCACCCTCAGGAGGAGATCTAGAAATTACAATGCATCATTTTAATTGTAGAGGGGAATTTTTCTATTGCAATACAACACGACTGTTTAATCATACTTACATGGAAAATAAAACCATGGGGGGGTGTAATGACACTATCATACTTCCATGCAAGATAAAGAAAATTATAAATATGTGGCAGGGAGTAGGACAAGCAATGTATGCTCCTCCCATCAGGGGAAGCATTAATTGTGTATCAAATATTACAGGAATACTATTGATAAGAGATGGTGGTGATAATAATGCGACTAACGAGACCTTCAGACCTGGAGGAGGAAATATAAAGGACAATTGGAGAAGTGAATTATATAAATATAAAGTAGTACAAATTGAACCACTAGGAATAGCACCCACCAGGGCAAAGGGAAGAGTGGTGGAGAGAGAAAGAAGA\n",
      "\n",
      "> AF236859.1 | HIV-1 strain TH91125_7 from Thailand gp120 (gp120) gene, partial cds\n",
      "GTTCCTGTGTGGAGAGATGCAGATACCACCCTATTTTGTGCATCAGATGCCAAATCACATGTGACAGAAGCACACAATGTCTGGGCCACACATGCCTGTGTACCCACAGACCCCAACCCGCAAGAAATACACCTGGAAAATGTAACAGAAAATTTTAACATGTGGAAAAATAACATGGTAGAGCAGATGCAGGAGGATGTAATCAGTTTATGGGAGCAAAGTCTAAAGCCATGTGTAAAGTTAACTCCTCTCTGCGTTACTTTAAATTGTACCAATGCTAATTTGACCAATGCTAATTTGACCAATGCTAATAACATAACCAATGTAGAAAATATAACAGATGAGGTAAGAAACTGTTCTTTTAATGTAACCACAGACCTAAGAGATAAGCAGCAGAAGGTCCATGCACTTTTTTATAGGCTTGATATAGTACAAATTAATAGTAAGAATAGTAGTGATTATAGGTTAATAAATTGTAATACTTCAGTTATTAAGCAGGCTTGTCCAAAGATATCCTTTGATCCAATTCCTATACATTATTGTACTCCAGCTGGTTATGCGATTTTAAAGTGTAATGATAAAAATTTCAATGGGACAGGGCCATGTAAAAATGTCAGCTCAGTACAATGCACACATGGAATTAAGCCAGTGGTATCAACTCAATTGCTGTTAAATGGCAGTCTAGCAGAAGAAGAGATAATAATCAGATCTGAAAATCTCACAAACAATGTCAAAACCATAATAGTGCACCTTAATAAATCTGTAGAAATCAATTGTACCAGACCCTCCAACAATACAAGAACCAGTATAACTATAGGACCAGGACAAGTATTCTATAGAACAGGAGACATAATAGGAGATATAAGGAAAGTATCTTGTGAGCTTAACGGAACAAAATGGAATGAAGTTTTAAAACAGGTAAAGGAAAAATTAAAAGAGCACTTTAATAAGAACATAAGCTTTCAACCACCCTCAGGAGGAGATCTAGAAATTACAATGCATCATTTTAGTTGTAGAGGGGAATTTTTCTATTGCAATACAACACAACTGTTTAATAATACTTACAGTAATGGCACTATCACACTTCCATGCAAGATAAAGCAAATTATAAACATGTGGCAGGGAGTAGGACAAGCAATGTATGCTCCTCCCATCAGTGGAAGAATTAATTGTTTATCAAATATTACAGGGTTGCTATTAACAAGAGATGGTAATAATGGGACCAATGAGACCTTTAGACCTGGAGGAGGAAATATAAAGGACAATTGGAGAAGTGAATTATATAAATGTAAAGTAGTACAAATTGAACCACTAGGAATAGCACCCACCAGGGCAAAGAGAAGAGTGGTGGAGAGAGAAAAAAAA\n",
      "\n",
      "> AF230868.1 | Simian immunodeficiency virus SIVmac Gp120 (Gp120) gene, partial cds\n",
      "ATGGGATGTCTTGGGAGTCAGCTGCTTATCGCCATCTTGCTTTTAAGTGTTTGTGGGATCTATTGTACTCTATATGTCACAGTCTTTTATGGTGTACCAGCTTGGAGGAATGCGACAGTTCCCCTCTTTTGTGCAACCGAGAATAGGGATACTTGGGGAACAACTCAGTGCCTACCAGATAATGGTGATTATTCAGAATTGGCCCTTAATGTTACAGAAAGCTTTGATGCCTGGAATAATACAGTCACAGAACAGGCAATAGAGGATGTATGGCAACTCTTTGAGACCTCAATAAGGCCTTGTGTAAAATTATCCCCATTATGCATTACTATGAGATGCAATAAAAGTGAGACAGACAGATGGGGATTGACAAAATCAATACCAACAACAACACCAACAACATCAGCGACAACATCAACAGAAGTAGACATGGTCAATGAGACTAGTTCTTGTATAGCTCAGGATAATTGCACAGGCTTGGAACAAGAGCAAATGATAAGCTGTAAATTCAACATGACAGGGTTAAAAAGAGACAAGAAAAAGGAGTACAATGAAACTTGGTACTCTGCAGATTTGGTATGTGAACAAGGGAATAACACTGATAATGAAAGTAGATGTTACATGAACCACTGTAACACTTCTGTTATCCAAGAGTCTTGTGACAAACATTATTGGGATGCTATTAGATTTAGGTACTGTGCACCTCCAGGTTATGCTTTGCTTAGATGTAATGACACAAATTATTCAGGCTTTATGCCTAATTGTTCTAAGGTGGTGGTCTCTTCATGCACAAGGATGATGGAGACACAGACTTCTACTTGGTTTGGCTTTAATGGAACTAGAGCAGAAAATAGAACTTATATTTACTGGCATGGTAGGGATAATAGGACTATAATTAGCTTAAATAAGTATTATAATCTAACAATGAGATGTAGAAGACCAGGAAATAAGACAGTTTTACCAATCACCATTATGTCTGGATTGCATTTCCACTCACAACCAATCATCAATGATAGGCCAAAGCAGGCATGGTGTTGGTTTGGAGGAAAGTGGAAGGATGCAATAAAAGAGGTGAAGCAGACCATTGTCGAACATCCCAGGTATACTGGAACTAACAACACTGATAAAATCAATTTGACGGTTCCTAGAGGAGGAGATCCGGAAGTTACCTTCATGTGGACAAATTGCAGAGGAGAGTTCCTCTACTGTAAAATGAATTGGTTTCTAAATTGGGTAGAAGATAGGAATACAACTAACCAGAAGCCAACGGAACGGCATAAAAGGAATTACGTGCCATGTCATATTAGACAAATAATCAACACTTGGCATAAAGTAGGCAAAAATGTTTATTTGCCTCCAAGAGAGGGAGACCTCACGTGTAACTCCACAGTGACCAGTCTCATAGCAAACATAGATTGGATTAATGGAAACCAACCTAATTTCACCATGAGTGCAGAGGTGGCAGAACTG\n",
      "\n",
      "> FN557331.1 | HIV-1 CRF02_AG:08GQ061 partial pol gene for gag-pol fusion polyprotein precursor, isolate 08GQ061\n",
      "ACTGTACTGAAAGACAGGCTAATTTTTTAGGGAAGATTTGGCCTTCCAACAAGGGGAGGCCAGGAAATTTTCCTCAGAGCAGACCAGAGCCAACAGCCCCACCAGCAGAGAGCTTTGGGATGGGGGAAGAGGTAACCTCCTCTCCGAAGCAGGAACYGAGGGACAAGGGACTATAYCCTCCTTTAACTTCCCTCAAATCACTCTTTGGCAACGACCCTTAGTCACAGTAAGAATAGAGGGACAGCTAATAGAAGCTCTATTAGACACAGGAGCAGATGATACAGTATTAGAAGGAATAAATTTACCAGGAAAATGGAAACCAAAAATGATAGGGGGAATTGGAGGCTTTATCAAAGTAAGACAGTATGATCAGATACTTATAGAAATTTGTGGAAAAAAGGCCCTAGGTACAGTATTRGTAGGACCTACACCTGTCAACATAATTGGACGAAATATGTTGACTCAGATTGGTTGTACTTTAAATTTCCCAATTAGTCCTATTAAAACTGTGCCAGTAAAATTAAAGCCAGGAATGGATGGGCCAAGGGTTAAACAATGGCCATTGACAGCAGAAAAAAWAAAGGCATTAACAGAWATTTGTACAGAAATGGAAAAAGAAGGAAAAATTTCAAAAATTGGGCCTGAAAATCCATACAATACTCCAATATTTGCCATAAAGAAAAAAGATRGTACTAAATGGAGAAAATTAGTAGATTTCAGAGAACTCAATAAGAGAACTCAAGACTTCTGGGAAGTCCAATTAGGAATACCTCATCCCGCGGGATTAAAAAAGAAAAAATCAGTAACAGTACTAGATGTGGGGGATGCATATTTTTCAGTTCCCTTAGATCCGGACTTTAGAAAGTATACTGCATTCACTATACCTAGTATAAATAATGAAACACCAGGGATCAGATATCAGTACAATGTGCTTCCACAGGGATGGAAAGGGTCACCAGCAATATTTCAAGCAAGCATGACAAAAATCTTAGAGCCCTTTAGAGCAAAAAATCCAGAGATGGTGATCTACCAATATATGGATGATTTATATGTAGGATCTGATTTAGAGATAGGGCAACATAGRGCAAAAATAGAGGAGTTGAGGGAACATCTACTGARATGGGGAYTTACCACACCAGACAAAAAACATCAGAAAGAACCTCCATTTCTTTGGATGGGATATGAACTCCATCCTGACAAATGGACAGTCCAGCCTATAAAGCTGCCAGAAAAAGAYAGCTGGACTGTCAATGACATACAAAAATTAGTGGGAAAGCTAAATTGGGCAAGTCAGATTTATGCAGGAATTAAAGTAAAGCAACTATGTAAACTCCTCAGGGGAGCCAAAGCACTAACAGATATAGTAACACTGACTGAGGAAGCAGAATTAGAATTGGCAGAAAACAGGGAAATTCTAAAAGAACCTGTACATGGAGTATATTATGACCCAACAAAAGACTTAATAGCAGAAATACAGAAACAAGGGCAAGATCAATGGACATATCAAATTTATCAAGAGCCATTTAAAAATCTAAAGACAGGAAAATATGCAAAAAGGAAGTCTACCCACACTAATGATATAAGACAATTAACAGAGGCAGTGCAAAAAATCGCTATGGAAAGCATAGTAATATGGGGAAAGACCCCTAAATTTAGACTACCCATACAAAAAGAAACATGGGAAGCATGGTGGATGGAGTATTGGCAGGCTACCTGGATTCCTGAATGGGAGTTTGTCAATACCCCTCCTCTAGTAAAATTATGGTACCAATTAGAGAAGGAACCCA\n",
      "\n",
      "> Y14419.1 | HIV-1 virus 93CUPL05 gp120 gene, C2-V3 region, patient 711\n",
      "GCTTGCAGTCTAGCAGAAGAAGAGGTAGTAATTAGATCTGAAAATTTCACAGACAATGCTAAAACCATAATAGTACAGCTGAATGAATCTGTAGTAATTAATTGCACAAGACCCAGCAACAATACAAGAAAAAGTATACATCTAGGATGGGGGCGTTCAGTTTATGCCACAGGAGACATAATAGGAGATATAAGACAAGCACATTGTAACATTAGTAGAGCAAAATGGAATGACACTTTAAAACAGATAGTTGAAAAATTAAGAGAACAATTTGGGGAAAATAAAACAATAATCTTTAATCAATCCTCAGGAGGGGACCCAGAAATTG\n",
      "\n",
      "> Y14411.1 | HIV-1 virus 93CUUSPL01 gp120 gene, C2-V3 region, patient 757\n",
      "GCTTGCAGTCTAGCAGAAGAAGAGGTAGTAATTAGATCTGACAATTTCACGAACAATGCTAAAACCATAATAGTACAGCTGAATGAATCTGTAGTAATTAATTGTACAAGACCCAACAACAATACAAGAAGAAGTATACCTATAGGACCAGGGAGAGCATTTTATGCAACAGGAGACATAACAGGAGATATAAGACAAGCACATTGTACCCTTAACGGAACACAATGGAATAACACTTTAAAACAGATAGTTATAAAATTAAGAGAACAATTTAAGAATAAAACAATAGTCTTTAGTCCATCATCAGGAGGGGACCCAGAAATTG\n",
      "\n",
      "> Y14412.1 | HIV-1 virus 93CUPL10 gp120 gene, C2-V3 region, patient 632\n",
      "AATGGCAGTCTAGCAGAAGGTAATGTAACAATTAGATCTGAAAATATCACAAACAATGCCAAAACCATTATAGTGCAGCTTACTAAGCCTGTACAAATTAATTGTACCCGACCTAACAACAATACAAGACAAGGTGTACATATAGGACCAGGACAAGTATTCTATAGAACAGGTGATATAATAGGGGATATAAGAAAGGCACATTGTAATGTCAGTAGAACAGAGTGGAATAAAACTTTACATCAGGTAGCTACACAATTAAGAAGACACTTTGGGAACAAAACAATAATCTTTACTAACTCCTCAGGAGGGGACCCAGAAATTG\n",
      "\n",
      "> Y14414.1 | HIV-1 virus 93CU051 gp120 gene, C2-V3 region, patient 216\n",
      "AATGGTAGCCTAGCAGAAGGAGAGATAATAATTAGATCTAAAAATCTGACAGACAATGCCAAAATAATAATAGTACATCTTAATGAATCTGTAGGAAATGTGTGTACAAGACCCAACAATAATACAAGAAAAAGTATAAGAATAGGACCAGGACAAGCATTTTATGCAAATAATGACATAATAGGGGACATAAGACAAGCACATTGTAACATTACTGAAAATGCCTGGAATAAAACTTTACAAATGGTAGGTAAAAAATTAAAAGAGCACTTCCCTAATAAAACAACAATAATATTTGAACCATCCTCAGGAGGGGACCCAGAAATTG\n",
      "\n",
      "> Y14413.1 | HIV-1 virus 93CUPL11 gp120 gene, C2-V3 region, patient 465\n",
      "GCTTGCAGTCTAGCAGAAGAAGAGGTAGTAATTAGATCTGATAATTTCACAAACAATGCTAAAATCATAATAGTACAGCTGAACGCATCAGTAGAAATTAATTGTACAAGACCCAACAACAACACAAGAAAAGGTATACATATAGGACCAGGAAGAGCATTTTATGCAACAGATATTATAGGAGATATAAGACAAGCATATTGTAACATTTCTAGAAGAGAATGGAATAACACTCTAGAAAAGATAGTTGCAAAATTAAGAGAAACATTTGGGAATAAAACAATAGCCTTTAAGCCATCCTCAGGAGGGGACCCAGAAATTG\n",
      "\n",
      "> Y14416.1 | HIV-1 virus 93CUPL18 gp120 gene, C2-V3 region, patient 480\n",
      "GCTTGCAGTCTAGCAGAAGAAGAGGTAATAATTAGATCTGCCAATTTCTCGAACAATACTAAAACCATAATAGTACAACTGAATGAATCTGTGGTAATTAATTGTACAAGACCCAACAACAATACAAGAAGAAGTGTAAATATAGGACCAGGGAGAGCATTTTTTACAACAGGAGATATAATAGGAGATATAAGACAAGCACATTGTAACCTTAGTAGAGCACAATGGAATGACACTTTAAAAAGGGTAGTTGAAAAATTAAAAGAACAATTTGTGAATAAGACAATAGTCTTTAATCAATCCTCAGGAGGGGACCCAGAAATTG\n",
      "\n",
      "\n"
     ]
    }
   ],
   "source": [
    "# extracting 10 HIV isolates from genbank based on their accession numbers and turning them into multi-fasta string\n",
    "Entrez.email = 'sylviaillouz@berkeley.edu'\n",
    "handle = Entrez.esearch(db ='nucleotide', term =  'gp120[All Fields]', sort ='relevance', idtype ='acc')\n",
    "i = Entrez.read(handle)['IdList'][0]\n",
    "fasta_seq = \"\"\n",
    "\n",
    "hiv_id_nums = ['AF236860.1', 'AF236859.1', 'AF230868.1', 'FN557331.1', 'Y14419.1', 'Y14411.1', 'Y14412.1', 'Y14414.1', 'Y14413.1', 'Y14416.1']\n",
    "for id_num in hiv_id_nums:\n",
    "    handle = Entrez.efetch(db ='nucleotide', id = id_num, rettype = 'gb', retmode = 'text', retmax = 1)\n",
    "    for record in SeqIO.parse(handle, 'genbank'):\n",
    "        fasta_seq += \"> \" + str(record.id) + \" | \" + str(record.description) + \"\\n\" + str(record.seq) + \"\\n\\n\"\n",
    "        \n",
    "print(fasta_seq)"
   ]
  },
  {
   "cell_type": "code",
   "execution_count": 167,
   "metadata": {},
   "outputs": [
    {
     "data": {
      "text/plain": [
       "8786"
      ]
     },
     "execution_count": 167,
     "metadata": {},
     "output_type": "execute_result"
    }
   ],
   "source": [
    "open('HIV_isolates.fa', 'w').write(fasta_seq)"
   ]
  },
  {
   "cell_type": "markdown",
   "metadata": {},
   "source": [
    "The non random files should have a better compression ratios because in real DNA, there are many multi-nucleotide runs of the same dna base (A, T, G, C) that approach a more optimized run-length encoding algorithm like gzip. \n",
    "\n",
    "### Terminal Commands:\n",
    "##### > time pbzip -c HIV_isolates.fa > HIV_pbzip.bz2\n",
    "#### > ls -l -t *.bz2\n",
    " \n",
    "##### > time gzip -c HIV-isolates.fa > HIV_gzip.gz\n",
    "##### > ls -l - t *.gz\n",
    "\n",
    "### Outputs:\n",
    "####  compression ratio pbzip: 2495 kB / 8786 kB = 0.284\n",
    "#### compression ration gzip: 2516 kB / 8786 kB = .286\n",
    "\n",
    "#### compression ratio random pbzip: 100 MB / 100 MB = 1\n",
    "#### compressio ratio random gzip: 100 MB / 100 MB = 1\n",
    "This compression ratio for the random 50/50 0 and 1 files is much worse than the compression ratio for real genomic data."
   ]
  },
  {
   "cell_type": "markdown",
   "metadata": {},
   "source": [
    "### Estimation"
   ]
  },
  {
   "cell_type": "markdown",
   "metadata": {},
   "source": [
    "For the binary micriscope images with completely random data, I would recommend gzip to compress. For the protein sequences, I would recommend pbzip, and pbzip for the re-sequencing of genomes data. With these compression schemes we should save roughly:\n",
    "    \n",
    "    (0.8)(0.286)(1000 terabytes from the dna seq data)\n",
    "    \n",
    "    (0.1)(.286)(1000 terabytes from the protein seq)\n",
    "    \n",
    "    (0.1)(0.85)(1000 terabytes from the random binary data)\n",
    "    \n",
    "    \n",
    "   = Roughly 675 terabytes saved for each 1000\n",
    "   \n",
    "   67.5% space on average\n",
    "   \n",
    "   $337500 bonus\n",
    "  \n",
    "    "
   ]
  },
  {
   "cell_type": "code",
   "execution_count": null,
   "metadata": {},
   "outputs": [],
   "source": []
  }
 ],
 "metadata": {
  "kernelspec": {
   "display_name": "Python 3",
   "language": "python",
   "name": "python3"
  },
  "language_info": {
   "codemirror_mode": {
    "name": "ipython",
    "version": 3
   },
   "file_extension": ".py",
   "mimetype": "text/x-python",
   "name": "python",
   "nbconvert_exporter": "python",
   "pygments_lexer": "ipython3",
   "version": "3.7.3"
  }
 },
 "nbformat": 4,
 "nbformat_minor": 2
}
